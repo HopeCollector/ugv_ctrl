{
 "cells": [
  {
   "cell_type": "code",
   "execution_count": null,
   "metadata": {},
   "outputs": [],
   "source": [
    "import rosbags\n",
    "import numpy as np\n",
    "from matplotlib import pyplot as plt"
   ]
  },
  {
   "cell_type": "code",
   "execution_count": null,
   "metadata": {},
   "outputs": [],
   "source": [
    "radius = 10.0\n",
    "v_linear = 2.0\n",
    "y_offset = 10.0\n",
    "v_angle = v_linear / radius\n",
    "sample_freq = 20.0\n",
    "n = 1000\n",
    "sample_time = 1.0 / sample_freq\n",
    "theta = np.array([-0.5 * np.pi + v_angle * i * sample_time for i in range(n)])\n",
    "x = radius * np.cos(theta)\n",
    "y = radius * np.sin(theta) + radius + y_offset\n",
    "yaw = theta + np.pi/2\n",
    "\n",
    "plt.plot(x, y)"
   ]
  },
  {
   "cell_type": "code",
   "execution_count": null,
   "metadata": {},
   "outputs": [],
   "source": [
    "from rosbags.rosbag2 import Writer\n",
    "from rosbags.typesys import Stores, get_typestore\n",
    "from nav_msgs.msg import Odometry\n",
    "import os\n",
    "from time import time_ns as now\n",
    "\n",
    "typestore = get_typestore(Stores.LATEST)\n",
    "geometry_pose = typestore.types['nav_msgs/msg/Odometry']\n",
    "bag_path = \"/workspaces/mpc_ws/traj/circle\"\n",
    "\n",
    "# Create writer instance and open for writing.\n",
    "with Writer(bag_path) as writer:\n",
    "    # Add new connection.\n",
    "    topic = '/target'\n",
    "    msgtype = geometry_pose.__msgtype__\n",
    "    connection = writer.add_connection(topic, msgtype, typestore=typestore)\n",
    "\n",
    "    # Serialize and write message.\n",
    "    stamp = now()\n",
    "    for px, py, theta in zip(x, y, yaw):\n",
    "        msg = Odometry()\n",
    "        msg.header.stamp.sec = int(stamp // 1e9)\n",
    "        msg.header.stamp.nanosec = int(stamp % 1e9)\n",
    "        msg.header.frame_id = \"odom\"\n",
    "        msg.child_frame_id = \"base_link\"\n",
    "        msg.pose.pose.position.x = px\n",
    "        msg.pose.pose.position.y = py\n",
    "        msg.pose.pose.orientation.z = np.sin(theta/2)\n",
    "        msg.pose.pose.orientation.w = np.cos(theta/2)\n",
    "        msg.twist.twist.linear.x = v_linear\n",
    "        msg.twist.twist.angular.z = v_angle\n",
    "        writer.write(connection, stamp, typestore.serialize_cdr(msg, msgtype))\n",
    "        stamp += sample_time * 1e9"
   ]
  }
 ],
 "metadata": {
  "kernelspec": {
   "display_name": "venv",
   "language": "python",
   "name": "python3"
  },
  "language_info": {
   "codemirror_mode": {
    "name": "ipython",
    "version": 3
   },
   "file_extension": ".py",
   "mimetype": "text/x-python",
   "name": "python",
   "nbconvert_exporter": "python",
   "pygments_lexer": "ipython3",
   "version": "3.12.3"
  }
 },
 "nbformat": 4,
 "nbformat_minor": 2
}
